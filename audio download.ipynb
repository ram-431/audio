{
 "cells": [
  {
   "cell_type": "code",
   "execution_count": 2,
   "metadata": {},
   "outputs": [],
   "source": [
    "from selenium import webdriver\n",
    "import requests\n",
    "import time\n",
    "import bs4"
   ]
  },
  {
   "cell_type": "code",
   "execution_count": 3,
   "metadata": {},
   "outputs": [
    {
     "name": "stdout",
     "output_type": "stream",
     "text": [
      "1\n",
      "2\n",
      "3\n"
     ]
    }
   ],
   "source": [
    "def counter():\n",
    "    if 'cnt' not in counter.__dict__:\n",
    "        counter.cnt = 0\n",
    "    counter.cnt += 1\n",
    "    return counter.cnt\n",
    "print(counter())\n",
    "print(counter())\n",
    "print(counter())\n"
   ]
  },
  {
   "cell_type": "code",
   "execution_count": 11,
   "metadata": {
    "scrolled": true
   },
   "outputs": [],
   "source": [
    "browser.get(\"http://osho-dhara-community.blogspot.com/2016/06/osho-audio-discourses-maha-geeta-osho.html\")\n",
    "\n"
   ]
  },
  {
   "cell_type": "code",
   "execution_count": 8,
   "metadata": {},
   "outputs": [],
   "source": [
    "data=requests.request('get','http://osho-dhara-community.blogspot.com/2016/06/osho-audio-discourses-maha-geeta-osho.html')\n",
    "s=bs4.BeautifulSoup(data.text,'html.parser')\n",
    "f=open('links.csv','w+')\n",
    "for link in s.findAll('a'):\n",
    "    f.write(str(link))\n",
    "f.close()"
   ]
  },
  {
   "cell_type": "code",
   "execution_count": 2,
   "metadata": {},
   "outputs": [],
   "source": [
    "from selenium import webdriver\n",
    "from bs4 import BeautifulSoup\n",
    "import requests\n",
    "import re\n",
    " \n",
    "    \n",
    "    \n",
    "options = webdriver.FirefoxOptions()\n",
    "options.add_argument(\"--private\")\n",
    "\n",
    "\n",
    "\n",
    "#browser = webdriver.Firefox(options=options)\n",
    "\n",
    "\n",
    "\n",
    "def get_page_links():\n",
    "\n",
    "    page_url= \"http://osho-dhara-community.blogspot.com/2016/06/osho-audio-discourses-maha-geeta-osho.html\"\n",
    "\n",
    "    links=[]\n",
    "\n",
    "    html_page = requests.get(page_url)\n",
    "    soup = BeautifulSoup(html_page.content,'html.parser')\n",
    "    for link in soup.findAll('a', attrs={'href': re.compile(\"^http://osho-dhara-community.blogspot.com/2016/06/osho-audio-discourses-maha-geeta\")}):\n",
    "       # print(link.get('href'))\n",
    "        links.append(link.get('href'))\n",
    "    page_links=links[5:22]\n",
    "    #print(page_links)\n",
    "    return(page_links)\n",
    "\n",
    "def get_drive_links():\n",
    "\n",
    "    links=get_page_links()\n",
    "    drive_links=[]\n",
    "    for link in links:\n",
    "\n",
    "        html_page = requests.get(link)\n",
    "        soup = BeautifulSoup(html_page.content,'html.parser')\n",
    "        for link in soup.findAll('a', attrs={'href': re.compile(\"^https://drive.google.com\")}):\n",
    "            drive_links.append((link.get('href')))\n",
    "    return(drive_links)\n",
    "\n",
    "\n",
    "\n",
    "\n"
   ]
  },
  {
   "cell_type": "code",
   "execution_count": null,
   "metadata": {},
   "outputs": [],
   "source": [
    "import gdown\n",
    "from bs4 import BeautifulSoup\n",
    "import requests\n",
    "import re\n",
    "import os\n",
    " \n",
    "    \n",
    "\n",
    "\n",
    "def get_page_links():\n",
    "\n",
    "    page_url= \"http://osho-dhara-community.blogspot.com/2016/06/osho-audio-discourses-maha-geeta-osho.html\"\n",
    "\n",
    "    links=[]\n",
    "\n",
    "    html_page = requests.get(page_url)\n",
    "    soup = BeautifulSoup(html_page.content,'html.parser')\n",
    "    for link in soup.findAll('a', attrs={'href': re.compile(\"^http://osho-dhara-community.blogspot.com/2016/06/osho-audio-discourses-maha-geeta\")}):\n",
    "       # print(link.get('href'))\n",
    "        links.append(link.get('href'))\n",
    "    page_links=links[5:22]\n",
    "    #print(page_links)\n",
    "    return(page_links)\n",
    "\n",
    "def download():\n",
    "\n",
    "    links=get_page_links()\n",
    "    for link in links:\n",
    "        html_page = requests.get(link)\n",
    "        soup = BeautifulSoup(html_page.content,'html.parser')\n",
    "        a=1\n",
    "        for link in soup.findAll('a', attrs={'href': re.compile(\"^https://drive.google.com\")}):\n",
    "            drive_links=(link.get('href'))\n",
    "            modified_drive_link=drive_links.replace('open','uc')\n",
    "            outfile = linux  + \"/Desktop/osho-mahageeta/discourse \"+str(a)\n",
    "            url=modified_drive_link\n",
    "            gdown.download(url, outfile, quiet=True)\n",
    "            \n",
    "            print(\"discourse \"+str(a)+\" downloaded\")\n",
    "            a=a+1\n",
    "            \n",
    "    return(drive_links)\n",
    "linux = os.getenv(\"HOME\")\n",
    "download()\n",
    "\n",
    "\n",
    "\n",
    "\n"
   ]
  },
  {
   "cell_type": "code",
   "execution_count": 15,
   "metadata": {},
   "outputs": [
    {
     "name": "stdout",
     "output_type": "stream",
     "text": [
      "https://drive.google.com/uc?id=0B95GbORmPt5mSG00U2c5Q2VuSWM\n"
     ]
    }
   ],
   "source": [
    "a='https://drive.google.com/open?id=0B95GbORmPt5mSG00U2c5Q2VuSWM'\n",
    "print((a.replace(\"open\", \"uc\")))"
   ]
  },
  {
   "cell_type": "code",
   "execution_count": 1,
   "metadata": {},
   "outputs": [
    {
     "ename": "ModuleNotFoundError",
     "evalue": "No module named 'wget'",
     "output_type": "error",
     "traceback": [
      "\u001b[0;31m---------------------------------------------------------------------------\u001b[0m",
      "\u001b[0;31mModuleNotFoundError\u001b[0m                       Traceback (most recent call last)",
      "\u001b[0;32m<ipython-input-1-aac93e22aebf>\u001b[0m in \u001b[0;36m<module>\u001b[0;34m\u001b[0m\n\u001b[0;32m----> 1\u001b[0;31m \u001b[0;32mimport\u001b[0m \u001b[0mwget\u001b[0m\u001b[0;34m\u001b[0m\u001b[0;34m\u001b[0m\u001b[0m\n\u001b[0m\u001b[1;32m      2\u001b[0m \u001b[0murl\u001b[0m \u001b[0;34m=\u001b[0m \u001b[0;34m'https://drive.google.com/$typettps://drive.google.com/open?id=0B95GbORmPt5mSG00U2c5Q2VuSW'\u001b[0m\u001b[0;34m\u001b[0m\u001b[0;34m\u001b[0m\u001b[0m\n\u001b[1;32m      3\u001b[0m \u001b[0mfilename\u001b[0m \u001b[0;34m=\u001b[0m \u001b[0mwget\u001b[0m\u001b[0;34m.\u001b[0m\u001b[0mdownload\u001b[0m\u001b[0;34m(\u001b[0m\u001b[0murl\u001b[0m\u001b[0;34m)\u001b[0m\u001b[0;34m\u001b[0m\u001b[0;34m\u001b[0m\u001b[0m\n",
      "\u001b[0;31mModuleNotFoundError\u001b[0m: No module named 'wget'"
     ]
    }
   ],
   "source": [
    "import wget\n",
    "url = 'https://drive.google.com/$typettps://drive.google.com/open?id=0B95GbORmPt5mSG00U2c5Q2VuSW'\n",
    "filename = wget.download(url)"
   ]
  },
  {
   "cell_type": "code",
   "execution_count": 2,
   "metadata": {},
   "outputs": [
    {
     "ename": "ModuleNotFoundError",
     "evalue": "No module named 'wget'",
     "output_type": "error",
     "traceback": [
      "\u001b[0;31m---------------------------------------------------------------------------\u001b[0m",
      "\u001b[0;31mModuleNotFoundError\u001b[0m                       Traceback (most recent call last)",
      "\u001b[0;32m<ipython-input-2-2f2ff713c8f4>\u001b[0m in \u001b[0;36m<module>\u001b[0;34m\u001b[0m\n\u001b[0;32m----> 1\u001b[0;31m \u001b[0;32mimport\u001b[0m \u001b[0mwget\u001b[0m\u001b[0;34m\u001b[0m\u001b[0;34m\u001b[0m\u001b[0m\n\u001b[0m",
      "\u001b[0;31mModuleNotFoundError\u001b[0m: No module named 'wget'"
     ]
    }
   ],
   "source": [
    "import wget \n"
   ]
  },
  {
   "cell_type": "code",
   "execution_count": 11,
   "metadata": {},
   "outputs": [
    {
     "data": {
      "text/plain": [
       "'/home/stillness/Desktop/osho-mahageeta/discourse1'"
      ]
     },
     "execution_count": 11,
     "metadata": {},
     "output_type": "execute_result"
    }
   ],
   "source": [
    "import os\n",
    "import gdown\n",
    "\n",
    " \n",
    "linux = os.getenv(\"HOME\")\n",
    "outfile = linux  + \"/Desktop/osho-mahageeta/discourse1\"\n",
    "url=\"https://drive.google.com/uc?id=0B95GbORmPt5mSG00U2c5Q2VuSWM\"\n",
    "\n",
    "gdown.download(url, outfile, quiet=True)\n",
    "\n",
    "  \n",
    "\n",
    "    \n",
    "    "
   ]
  },
  {
   "cell_type": "code",
   "execution_count": 9,
   "metadata": {},
   "outputs": [
    {
     "name": "stderr",
     "output_type": "stream",
     "text": [
      "Downloading...\n",
      "From: https://drive.google.com/file/d/0B95GbORmPt5mSG00U2c5Q2VuSWM/view\n",
      "To: /home/stillness/python programs/web scraping/spam.html\n",
      "67.5kB [00:00, 371kB/s]\n"
     ]
    },
    {
     "data": {
      "text/plain": [
       "'spam.html'"
      ]
     },
     "execution_count": 9,
     "metadata": {},
     "output_type": "execute_result"
    }
   ],
   "source": [
    "\n",
    "url = 'https://drive.google.com/file/d/0B95GbORmPt5mSG00U2c5Q2VuSWM/view'\n",
    "output = 'spam.html'\n",
    "gdown.download(url, output, quiet=False)\n"
   ]
  },
  {
   "cell_type": "code",
   "execution_count": 3,
   "metadata": {
    "scrolled": true
   },
   "outputs": [
    {
     "name": "stdout",
     "output_type": "stream",
     "text": [
      "https://drive.google.com/open?id=0B95GbORmPt5mSG00U2c5Q2VuSWM\n"
     ]
    },
    {
     "ename": "NoSuchElementException",
     "evalue": "Message: Unable to locate element: //div[@role='button'][@aria-label='Download']\n",
     "output_type": "error",
     "traceback": [
      "\u001b[0;31m---------------------------------------------------------------------------\u001b[0m",
      "\u001b[0;31mNoSuchElementException\u001b[0m                    Traceback (most recent call last)",
      "\u001b[0;32m<ipython-input-3-b1c1e198548d>\u001b[0m in \u001b[0;36m<module>\u001b[0;34m\u001b[0m\n\u001b[1;32m      7\u001b[0m \u001b[0;31m#browser.find_element_by_xpath(\"//div[@role='button'][@aria-label='Download\"]'').click()\u001b[0m\u001b[0;34m\u001b[0m\u001b[0;34m\u001b[0m\u001b[0;34m\u001b[0m\u001b[0m\n\u001b[1;32m      8\u001b[0m \u001b[0mbrowser\u001b[0m\u001b[0;34m.\u001b[0m\u001b[0mfind_element_by_class_name\u001b[0m\u001b[0;34m(\u001b[0m\u001b[0;34m'ndfHFb-c4YZDc-Wrql6b-LQLjdd'\u001b[0m\u001b[0;34m)\u001b[0m\u001b[0;34m\u001b[0m\u001b[0;34m\u001b[0m\u001b[0m\n\u001b[0;32m----> 9\u001b[0;31m \u001b[0mbrowser\u001b[0m\u001b[0;34m.\u001b[0m\u001b[0mfind_element_by_xpath\u001b[0m\u001b[0;34m(\u001b[0m\u001b[0;34m\"//div[@role='button'][@aria-label='Download']\"\u001b[0m\u001b[0;34m)\u001b[0m\u001b[0;34m.\u001b[0m\u001b[0mclick\u001b[0m\u001b[0;34m(\u001b[0m\u001b[0;34m)\u001b[0m\u001b[0;34m\u001b[0m\u001b[0;34m\u001b[0m\u001b[0m\n\u001b[0m",
      "\u001b[0;32m~/anaconda3/lib/python3.7/site-packages/selenium/webdriver/remote/webdriver.py\u001b[0m in \u001b[0;36mfind_element_by_xpath\u001b[0;34m(self, xpath)\u001b[0m\n\u001b[1;32m    392\u001b[0m             \u001b[0melement\u001b[0m \u001b[0;34m=\u001b[0m \u001b[0mdriver\u001b[0m\u001b[0;34m.\u001b[0m\u001b[0mfind_element_by_xpath\u001b[0m\u001b[0;34m(\u001b[0m\u001b[0;34m'//div/td[1]'\u001b[0m\u001b[0;34m)\u001b[0m\u001b[0;34m\u001b[0m\u001b[0;34m\u001b[0m\u001b[0m\n\u001b[1;32m    393\u001b[0m         \"\"\"\n\u001b[0;32m--> 394\u001b[0;31m         \u001b[0;32mreturn\u001b[0m \u001b[0mself\u001b[0m\u001b[0;34m.\u001b[0m\u001b[0mfind_element\u001b[0m\u001b[0;34m(\u001b[0m\u001b[0mby\u001b[0m\u001b[0;34m=\u001b[0m\u001b[0mBy\u001b[0m\u001b[0;34m.\u001b[0m\u001b[0mXPATH\u001b[0m\u001b[0;34m,\u001b[0m \u001b[0mvalue\u001b[0m\u001b[0;34m=\u001b[0m\u001b[0mxpath\u001b[0m\u001b[0;34m)\u001b[0m\u001b[0;34m\u001b[0m\u001b[0;34m\u001b[0m\u001b[0m\n\u001b[0m\u001b[1;32m    395\u001b[0m \u001b[0;34m\u001b[0m\u001b[0m\n\u001b[1;32m    396\u001b[0m     \u001b[0;32mdef\u001b[0m \u001b[0mfind_elements_by_xpath\u001b[0m\u001b[0;34m(\u001b[0m\u001b[0mself\u001b[0m\u001b[0;34m,\u001b[0m \u001b[0mxpath\u001b[0m\u001b[0;34m)\u001b[0m\u001b[0;34m:\u001b[0m\u001b[0;34m\u001b[0m\u001b[0;34m\u001b[0m\u001b[0m\n",
      "\u001b[0;32m~/anaconda3/lib/python3.7/site-packages/selenium/webdriver/remote/webdriver.py\u001b[0m in \u001b[0;36mfind_element\u001b[0;34m(self, by, value)\u001b[0m\n\u001b[1;32m    976\u001b[0m         return self.execute(Command.FIND_ELEMENT, {\n\u001b[1;32m    977\u001b[0m             \u001b[0;34m'using'\u001b[0m\u001b[0;34m:\u001b[0m \u001b[0mby\u001b[0m\u001b[0;34m,\u001b[0m\u001b[0;34m\u001b[0m\u001b[0;34m\u001b[0m\u001b[0m\n\u001b[0;32m--> 978\u001b[0;31m             'value': value})['value']\n\u001b[0m\u001b[1;32m    979\u001b[0m \u001b[0;34m\u001b[0m\u001b[0m\n\u001b[1;32m    980\u001b[0m     \u001b[0;32mdef\u001b[0m \u001b[0mfind_elements\u001b[0m\u001b[0;34m(\u001b[0m\u001b[0mself\u001b[0m\u001b[0;34m,\u001b[0m \u001b[0mby\u001b[0m\u001b[0;34m=\u001b[0m\u001b[0mBy\u001b[0m\u001b[0;34m.\u001b[0m\u001b[0mID\u001b[0m\u001b[0;34m,\u001b[0m \u001b[0mvalue\u001b[0m\u001b[0;34m=\u001b[0m\u001b[0;32mNone\u001b[0m\u001b[0;34m)\u001b[0m\u001b[0;34m:\u001b[0m\u001b[0;34m\u001b[0m\u001b[0;34m\u001b[0m\u001b[0m\n",
      "\u001b[0;32m~/anaconda3/lib/python3.7/site-packages/selenium/webdriver/remote/webdriver.py\u001b[0m in \u001b[0;36mexecute\u001b[0;34m(self, driver_command, params)\u001b[0m\n\u001b[1;32m    319\u001b[0m         \u001b[0mresponse\u001b[0m \u001b[0;34m=\u001b[0m \u001b[0mself\u001b[0m\u001b[0;34m.\u001b[0m\u001b[0mcommand_executor\u001b[0m\u001b[0;34m.\u001b[0m\u001b[0mexecute\u001b[0m\u001b[0;34m(\u001b[0m\u001b[0mdriver_command\u001b[0m\u001b[0;34m,\u001b[0m \u001b[0mparams\u001b[0m\u001b[0;34m)\u001b[0m\u001b[0;34m\u001b[0m\u001b[0;34m\u001b[0m\u001b[0m\n\u001b[1;32m    320\u001b[0m         \u001b[0;32mif\u001b[0m \u001b[0mresponse\u001b[0m\u001b[0;34m:\u001b[0m\u001b[0;34m\u001b[0m\u001b[0;34m\u001b[0m\u001b[0m\n\u001b[0;32m--> 321\u001b[0;31m             \u001b[0mself\u001b[0m\u001b[0;34m.\u001b[0m\u001b[0merror_handler\u001b[0m\u001b[0;34m.\u001b[0m\u001b[0mcheck_response\u001b[0m\u001b[0;34m(\u001b[0m\u001b[0mresponse\u001b[0m\u001b[0;34m)\u001b[0m\u001b[0;34m\u001b[0m\u001b[0;34m\u001b[0m\u001b[0m\n\u001b[0m\u001b[1;32m    322\u001b[0m             response['value'] = self._unwrap_value(\n\u001b[1;32m    323\u001b[0m                 response.get('value', None))\n",
      "\u001b[0;32m~/anaconda3/lib/python3.7/site-packages/selenium/webdriver/remote/errorhandler.py\u001b[0m in \u001b[0;36mcheck_response\u001b[0;34m(self, response)\u001b[0m\n\u001b[1;32m    240\u001b[0m                 \u001b[0malert_text\u001b[0m \u001b[0;34m=\u001b[0m \u001b[0mvalue\u001b[0m\u001b[0;34m[\u001b[0m\u001b[0;34m'alert'\u001b[0m\u001b[0;34m]\u001b[0m\u001b[0;34m.\u001b[0m\u001b[0mget\u001b[0m\u001b[0;34m(\u001b[0m\u001b[0;34m'text'\u001b[0m\u001b[0;34m)\u001b[0m\u001b[0;34m\u001b[0m\u001b[0;34m\u001b[0m\u001b[0m\n\u001b[1;32m    241\u001b[0m             \u001b[0;32mraise\u001b[0m \u001b[0mexception_class\u001b[0m\u001b[0;34m(\u001b[0m\u001b[0mmessage\u001b[0m\u001b[0;34m,\u001b[0m \u001b[0mscreen\u001b[0m\u001b[0;34m,\u001b[0m \u001b[0mstacktrace\u001b[0m\u001b[0;34m,\u001b[0m \u001b[0malert_text\u001b[0m\u001b[0;34m)\u001b[0m\u001b[0;34m\u001b[0m\u001b[0;34m\u001b[0m\u001b[0m\n\u001b[0;32m--> 242\u001b[0;31m         \u001b[0;32mraise\u001b[0m \u001b[0mexception_class\u001b[0m\u001b[0;34m(\u001b[0m\u001b[0mmessage\u001b[0m\u001b[0;34m,\u001b[0m \u001b[0mscreen\u001b[0m\u001b[0;34m,\u001b[0m \u001b[0mstacktrace\u001b[0m\u001b[0;34m)\u001b[0m\u001b[0;34m\u001b[0m\u001b[0;34m\u001b[0m\u001b[0m\n\u001b[0m\u001b[1;32m    243\u001b[0m \u001b[0;34m\u001b[0m\u001b[0m\n\u001b[1;32m    244\u001b[0m     \u001b[0;32mdef\u001b[0m \u001b[0m_value_or_default\u001b[0m\u001b[0;34m(\u001b[0m\u001b[0mself\u001b[0m\u001b[0;34m,\u001b[0m \u001b[0mobj\u001b[0m\u001b[0;34m,\u001b[0m \u001b[0mkey\u001b[0m\u001b[0;34m,\u001b[0m \u001b[0mdefault\u001b[0m\u001b[0;34m)\u001b[0m\u001b[0;34m:\u001b[0m\u001b[0;34m\u001b[0m\u001b[0;34m\u001b[0m\u001b[0m\n",
      "\u001b[0;31mNoSuchElementException\u001b[0m: Message: Unable to locate element: //div[@role='button'][@aria-label='Download']\n"
     ]
    }
   ],
   "source": [
    "download=get_drive_links()\n",
    "print(download[0])\n",
    "options = webdriver.FirefoxOptions()\n",
    "options.add_argument(\"--private\")\n",
    "browser = webdriver.Firefox(options=options)\n",
    "browser.get(download[0])\n",
    "#browser.find_element_by_xpath(\"//div[@role='button'][@aria-label='Download\"]'').click()\n",
    "browser.find_element_by_class_name('ndfHFb-c4YZDc-Wrql6b-LQLjdd')\n",
    "browser.find_element_by_xpath(\"//div[@role='button'][@aria-label='Download']\").click()"
   ]
  },
  {
   "cell_type": "code",
   "execution_count": 30,
   "metadata": {},
   "outputs": [
    {
     "name": "stdout",
     "output_type": "stream",
     "text": [
      "[]\n"
     ]
    }
   ],
   "source": [
    "page_url=download[0]\n",
    "html_page = requests.get(page_url)\n",
    "soup = BeautifulSoup(html_page.content,'html.parser')\n",
    "print(soup.findAll(class_='ndfHFb-c4YZDc-Wrql6b-LQLjdd'))"
   ]
  },
  {
   "cell_type": "code",
   "execution_count": 305,
   "metadata": {
    "collapsed": true
   },
   "outputs": [],
   "source": [
    "from selenium import webdriver\n",
    "from bs4 import BeautifulSoup\n",
    "import requests\n",
    " \n",
    "    \n",
    "    \n",
    "options = webdriver.FirefoxOptions()\n",
    "options.add_argument(\"--private\")\n",
    "#browser = webdriver.Firefox(options=options)\n",
    "\n",
    "def get_page_links():\n",
    "\n",
    "    page_url= \"http://osho-dhara-community.blogspot.com/2016/06/osho-audio-discourses-maha-geeta-osho.html\"\n",
    "\n",
    "    links=[]\n",
    "\n",
    "    html_page = requests.get(page_url)\n",
    "    soup = BeautifulSoup(html_page.content,'html.parser')\n",
    "    for link in soup.findAll('a', attrs={'href': re.compile(\"^http://osho-dhara-community.blogspot.com/2016/06/osho-audio-discourses-maha-geeta\")}):\n",
    "       # print(link.get('href'))\n",
    "        links.append(link.get('href'))\n",
    "    page_links=links[5:22]\n",
    "    #print(page_links)\n",
    "    return(page_links)\n",
    "  "
   ]
  },
  {
   "cell_type": "code",
   "execution_count": 294,
   "metadata": {},
   "outputs": [
    {
     "name": "stdout",
     "output_type": "stream",
     "text": [
      "http://osho-dhara-community.blogspot.com/2016/06/osho-audio-discourses-maha-geeta-osho_25.html\n"
     ]
    }
   ],
   "source": [
    "print(links[22])"
   ]
  },
  {
   "cell_type": "code",
   "execution_count": 301,
   "metadata": {},
   "outputs": [
    {
     "name": "stdout",
     "output_type": "stream",
     "text": [
      "http://osho-dhara-community.blogspot.com/2016/06/osho-audio-discourses-maha-geeta-osho_25.html\n"
     ]
    }
   ],
   "source": [
    "page_links=links[5:22]\n",
    "print(page_links[1])"
   ]
  },
  {
   "cell_type": "code",
   "execution_count": 237,
   "metadata": {},
   "outputs": [
    {
     "data": {
      "text/plain": [
       "[]"
      ]
     },
     "execution_count": 237,
     "metadata": {},
     "output_type": "execute_result"
    }
   ],
   "source": [
    "import re\n",
    "from bs4 import BeautifulSoup\n",
    "\n",
    "soup.find_all('a', {'href': re.compile(r'crummy\\.com/')})"
   ]
  },
  {
   "cell_type": "code",
   "execution_count": 245,
   "metadata": {},
   "outputs": [
    {
     "name": "stdout",
     "output_type": "stream",
     "text": [
      "voila it is done \n"
     ]
    }
   ],
   "source": [
    "import re \n",
    "txt=\"the rain in spain\"\n",
    "x=re.search(\"the.*spain\",txt)\n",
    "if (x):\n",
    "    print(\"voila it is done \")\n",
    "else:\n",
    "    print(\"sorry boss\")"
   ]
  }
 ],
 "metadata": {
  "kernelspec": {
   "display_name": "Python 3",
   "language": "python",
   "name": "python3"
  },
  "language_info": {
   "codemirror_mode": {
    "name": "ipython",
    "version": 3
   },
   "file_extension": ".py",
   "mimetype": "text/x-python",
   "name": "python",
   "nbconvert_exporter": "python",
   "pygments_lexer": "ipython3",
   "version": "3.7.4"
  }
 },
 "nbformat": 4,
 "nbformat_minor": 2
}
